{
 "cells": [
  {
   "cell_type": "code",
   "execution_count": 25,
   "metadata": {},
   "outputs": [
    {
     "name": "stdout",
     "output_type": "stream",
     "text": [
      "Using matplotlib backend: Qt5Agg\n"
     ]
    }
   ],
   "source": [
    "import json\n",
    "import datetime\n",
    "import pandas as pd\n",
    "import matplotlib.pyplot as plt\n",
    "%matplotlib"
   ]
  },
  {
   "cell_type": "code",
   "execution_count": 26,
   "metadata": {},
   "outputs": [],
   "source": [
    "file1=open('playerStats.json')\n",
    "file2=open('teamsData.json')\n",
    "playerStats=json.load(file1)\n",
    "teamsData=json.load(file2)"
   ]
  },
  {
   "cell_type": "markdown",
   "metadata": {},
   "source": [
    "# nationality analysis\n",
    "---\n",
    "- excat same analysis can be done for `bowlingStyle`[multiple category] \n",
    "- or for `right/left` handbad,bowl [binary]\n",
    "- a bit diff analysis for age is done below"
   ]
  },
  {
   "cell_type": "code",
   "execution_count": 27,
   "metadata": {},
   "outputs": [],
   "source": [
    "def getNations(playerStats):\n",
    "    nationList=[]\n",
    "    for player in playerStats:\n",
    "        nation=player['player']['nationality']\n",
    "        if not (nation in nationList):\n",
    "            nationList.append(nation)\n",
    "    return nationList\n",
    "\n",
    "nations=getNations(playerStats)\n",
    "# print(nations)\n"
   ]
  },
  {
   "cell_type": "code",
   "execution_count": 28,
   "metadata": {},
   "outputs": [],
   "source": [
    "# in these fucntions other info lists also can be added like APIs\n",
    "def getTeamNations(id,playerStats=playerStats,nationNames=nations):\n",
    "    #set up dictoinary\n",
    "    teamNations={'teamID':id}\n",
    "    for nation in nationNames:\n",
    "        teamNations.setdefault(nation,0)\n",
    "    #add an extra key\n",
    "    teamNations.setdefault('Foreigner',0)\n",
    "\n",
    "    for player in playerStats:\n",
    "        if player['teamID']==id:\n",
    "            nation=player['player']['nationality']\n",
    "            if nation=='Indian':\n",
    "                teamNations[nation]+=1\n",
    "            else:\n",
    "                teamNations['Foreigner']+=1\n",
    "                teamNations[nation]+=1\n",
    "    \n",
    "    return teamNations\n"
   ]
  },
  {
   "cell_type": "code",
   "execution_count": 29,
   "metadata": {},
   "outputs": [],
   "source": [
    "nationalityList=[]\n",
    "for team in teamsData:\n",
    "    id=team['id']\n",
    "    data=getTeamNations(id)\n",
    "    data['Team Name']=team['abbreviation']\n",
    "    nationalityList.append(data)\n",
    "\n",
    "nationalityDF=pd.DataFrame(nationalityList)\n",
    "nationalityDF.to_csv('nationlityOfTeams.csv',index=False)"
   ]
  },
  {
   "cell_type": "code",
   "execution_count": 30,
   "metadata": {},
   "outputs": [],
   "source": [
    "totalOverall=list(nationalityDF.iloc[:,1:-1].sum(axis=0))\n",
    "nationLabels=list(nationalityDF.columns)[1:-1]\n",
    "overallDf=pd.DataFrame({'Nation':nationLabels,'Player Count':totalOverall})\n",
    "overallDf.sort_values('Player Count',axis=0,inplace=True)"
   ]
  },
  {
   "cell_type": "code",
   "execution_count": 31,
   "metadata": {},
   "outputs": [],
   "source": [
    "plt.barh(y=overallDf.Nation,width=overallDf['Player Count'],color='#FDB913')\n",
    "plt.ylabel('Nationalities')\n",
    "plt.xlabel('player count of particular nation')\n",
    "plt.tight_layout()\n",
    "plt.savefig('plots/nationality.png')\n",
    "plt.show()"
   ]
  },
  {
   "cell_type": "code",
   "execution_count": 43,
   "metadata": {},
   "outputs": [],
   "source": [
    "ageData =list()\n",
    "\n",
    "for player in playerStats:\n",
    "    data=player['player']\n",
    "    birthday=data['dateOfBirth']\n",
    "    #convert into date time object\n",
    "    birthday=(datetime.datetime.strptime(birthday,'%Y-%m-%d').date())\n",
    "    today=datetime.date.today()\n",
    "    daysOld=(today-birthday).days\n",
    "    daysInYear=365.25\n",
    "    age=int(daysOld//daysInYear)\n",
    "\n",
    "    ageData.append({'id':data['id'],'teamID':player['teamID'],'name':data['fullName'],'age':age})"
   ]
  },
  {
   "cell_type": "code",
   "execution_count": 56,
   "metadata": {},
   "outputs": [],
   "source": [
    "ageDF=pd.DataFrame(ageData)\n",
    "ageDF.sort_values('id',axis=0,inplace=True)"
   ]
  },
  {
   "cell_type": "code",
   "execution_count": 58,
   "metadata": {},
   "outputs": [
    {
     "data": {
      "text/plain": [
       "count    217.000000\n",
       "mean      28.322581\n",
       "std        4.904372\n",
       "min       19.000000\n",
       "25%       24.000000\n",
       "50%       28.000000\n",
       "75%       32.000000\n",
       "max       42.000000\n",
       "Name: age, dtype: float64"
      ]
     },
     "execution_count": 58,
     "metadata": {},
     "output_type": "execute_result"
    }
   ],
   "source": [
    "# basic sumarry of age data\n",
    "ageDF.age.describe()"
   ]
  },
  {
   "cell_type": "code",
   "execution_count": 71,
   "metadata": {},
   "outputs": [],
   "source": [
    "teamNames=[team['abbreviation'] for team in teamsData]\n",
    "ageMeans=list(ageDF[['age','teamID']].groupby('teamID').mean()['age'])\n",
    "plt.barh(y=teamNames,width=ageMeans,color='orange')\n",
    "plt.xlabel('team avg age')\n",
    "plt.ylabel('team abbr')\n",
    "plt.tight_layout()\n",
    "plt.savefig('plots/age.png')\n",
    "plt.show()"
   ]
  }
 ],
 "metadata": {
  "interpreter": {
   "hash": "365d70965140afb04a698773bfdd31483bc82432b779112c2a78b5de7c16d125"
  },
  "kernelspec": {
   "display_name": "Python 3.8.5 64-bit ('base': conda)",
   "name": "python3"
  },
  "language_info": {
   "codemirror_mode": {
    "name": "ipython",
    "version": 3
   },
   "file_extension": ".py",
   "mimetype": "text/x-python",
   "name": "python",
   "nbconvert_exporter": "python",
   "pygments_lexer": "ipython3",
   "version": "3.8.5"
  },
  "orig_nbformat": 4
 },
 "nbformat": 4,
 "nbformat_minor": 2
}
