{
 "cells": [
  {
   "cell_type": "markdown",
   "metadata": {},
   "source": [
    "# analysis\n",
    "- it is quite clear that teams that qualified are performing better in most of the departments than non-qualifing teams\n",
    "- and then in qualifying also team that is doing even better(overall in all depts) than other teams have won the tournament\n",
    "- here teamID 1 is performing better than most teams in all depts and it has won championship"
   ]
  },
  {
   "cell_type": "code",
   "execution_count": 133,
   "metadata": {},
   "outputs": [],
   "source": [
    "import pandas as pd"
   ]
  },
  {
   "cell_type": "markdown",
   "metadata": {},
   "source": [
    "# batting"
   ]
  },
  {
   "cell_type": "code",
   "execution_count": 134,
   "metadata": {},
   "outputs": [],
   "source": [
    "batting=pd.read_csv('datasets/battingdata.csv')"
   ]
  },
  {
   "cell_type": "code",
   "execution_count": 135,
   "metadata": {},
   "outputs": [
    {
     "name": "stdout",
     "output_type": "stream",
     "text": [
      "(168, 14)\n"
     ]
    },
    {
     "data": {
      "text/html": [
       "<div>\n",
       "<style scoped>\n",
       "    .dataframe tbody tr th:only-of-type {\n",
       "        vertical-align: middle;\n",
       "    }\n",
       "\n",
       "    .dataframe tbody tr th {\n",
       "        vertical-align: top;\n",
       "    }\n",
       "\n",
       "    .dataframe thead th {\n",
       "        text-align: right;\n",
       "    }\n",
       "</style>\n",
       "<table border=\"1\" class=\"dataframe\">\n",
       "  <thead>\n",
       "    <tr style=\"text-align: right;\">\n",
       "      <th></th>\n",
       "      <th>50s</th>\n",
       "      <th>100s</th>\n",
       "      <th>inns</th>\n",
       "      <th>m</th>\n",
       "      <th>r</th>\n",
       "      <th>b</th>\n",
       "      <th>4s</th>\n",
       "      <th>6s</th>\n",
       "      <th>no</th>\n",
       "      <th>hs</th>\n",
       "      <th>sr</th>\n",
       "      <th>a</th>\n",
       "      <th>teamID</th>\n",
       "      <th>playerID</th>\n",
       "    </tr>\n",
       "  </thead>\n",
       "  <tbody>\n",
       "    <tr>\n",
       "      <th>0</th>\n",
       "      <td>0</td>\n",
       "      <td>0</td>\n",
       "      <td>11</td>\n",
       "      <td>16</td>\n",
       "      <td>114</td>\n",
       "      <td>107</td>\n",
       "      <td>12</td>\n",
       "      <td>3</td>\n",
       "      <td>4</td>\n",
       "      <td>18*</td>\n",
       "      <td>106.54</td>\n",
       "      <td>16.28</td>\n",
       "      <td>1</td>\n",
       "      <td>1</td>\n",
       "    </tr>\n",
       "    <tr>\n",
       "      <th>1</th>\n",
       "      <td>0</td>\n",
       "      <td>0</td>\n",
       "      <td>0</td>\n",
       "      <td>1</td>\n",
       "      <td>0</td>\n",
       "      <td>0</td>\n",
       "      <td>0</td>\n",
       "      <td>0</td>\n",
       "      <td>0</td>\n",
       "      <td>0*</td>\n",
       "      <td>-</td>\n",
       "      <td>-</td>\n",
       "      <td>1</td>\n",
       "      <td>898</td>\n",
       "    </tr>\n",
       "    <tr>\n",
       "      <th>2</th>\n",
       "      <td>4</td>\n",
       "      <td>1</td>\n",
       "      <td>16</td>\n",
       "      <td>16</td>\n",
       "      <td>635</td>\n",
       "      <td>466</td>\n",
       "      <td>64</td>\n",
       "      <td>23</td>\n",
       "      <td>2</td>\n",
       "      <td>101*</td>\n",
       "      <td>136.26</td>\n",
       "      <td>45.35</td>\n",
       "      <td>1</td>\n",
       "      <td>5443</td>\n",
       "    </tr>\n",
       "    <tr>\n",
       "      <th>3</th>\n",
       "      <td>1</td>\n",
       "      <td>0</td>\n",
       "      <td>15</td>\n",
       "      <td>15</td>\n",
       "      <td>357</td>\n",
       "      <td>260</td>\n",
       "      <td>31</td>\n",
       "      <td>19</td>\n",
       "      <td>1</td>\n",
       "      <td>58</td>\n",
       "      <td>137.30</td>\n",
       "      <td>25.50</td>\n",
       "      <td>1</td>\n",
       "      <td>1735</td>\n",
       "    </tr>\n",
       "    <tr>\n",
       "      <th>4</th>\n",
       "      <td>1</td>\n",
       "      <td>0</td>\n",
       "      <td>12</td>\n",
       "      <td>16</td>\n",
       "      <td>227</td>\n",
       "      <td>156</td>\n",
       "      <td>19</td>\n",
       "      <td>9</td>\n",
       "      <td>9</td>\n",
       "      <td>62*</td>\n",
       "      <td>145.51</td>\n",
       "      <td>75.66</td>\n",
       "      <td>1</td>\n",
       "      <td>9</td>\n",
       "    </tr>\n",
       "  </tbody>\n",
       "</table>\n",
       "</div>"
      ],
      "text/plain": [
       "   50s  100s  inns   m    r    b  4s  6s  no    hs      sr      a  teamID  \\\n",
       "0    0     0    11  16  114  107  12   3   4   18*  106.54  16.28       1   \n",
       "1    0     0     0   1    0    0   0   0   0    0*       -      -       1   \n",
       "2    4     1    16  16  635  466  64  23   2  101*  136.26  45.35       1   \n",
       "3    1     0    15  15  357  260  31  19   1    58  137.30  25.50       1   \n",
       "4    1     0    12  16  227  156  19   9   9   62*  145.51  75.66       1   \n",
       "\n",
       "   playerID  \n",
       "0         1  \n",
       "1       898  \n",
       "2      5443  \n",
       "3      1735  \n",
       "4         9  "
      ]
     },
     "execution_count": 135,
     "metadata": {},
     "output_type": "execute_result"
    }
   ],
   "source": [
    "print(batting.shape)\n",
    "batting.head()"
   ]
  },
  {
   "cell_type": "code",
   "execution_count": 136,
   "metadata": {},
   "outputs": [
    {
     "name": "stdout",
     "output_type": "stream",
     "text": [
      "orange cap\n"
     ]
    },
    {
     "data": {
      "text/html": [
       "<div>\n",
       "<style scoped>\n",
       "    .dataframe tbody tr th:only-of-type {\n",
       "        vertical-align: middle;\n",
       "    }\n",
       "\n",
       "    .dataframe tbody tr th {\n",
       "        vertical-align: top;\n",
       "    }\n",
       "\n",
       "    .dataframe thead th {\n",
       "        text-align: right;\n",
       "    }\n",
       "</style>\n",
       "<table border=\"1\" class=\"dataframe\">\n",
       "  <thead>\n",
       "    <tr style=\"text-align: right;\">\n",
       "      <th></th>\n",
       "      <th>r</th>\n",
       "      <th>teamID</th>\n",
       "      <th>playerID</th>\n",
       "    </tr>\n",
       "  </thead>\n",
       "  <tbody>\n",
       "    <tr>\n",
       "      <th>2</th>\n",
       "      <td>635</td>\n",
       "      <td>1</td>\n",
       "      <td>5443</td>\n",
       "    </tr>\n",
       "    <tr>\n",
       "      <th>9</th>\n",
       "      <td>633</td>\n",
       "      <td>1</td>\n",
       "      <td>24</td>\n",
       "    </tr>\n",
       "    <tr>\n",
       "      <th>53</th>\n",
       "      <td>626</td>\n",
       "      <td>4</td>\n",
       "      <td>1125</td>\n",
       "    </tr>\n",
       "    <tr>\n",
       "      <th>30</th>\n",
       "      <td>587</td>\n",
       "      <td>3</td>\n",
       "      <td>41</td>\n",
       "    </tr>\n",
       "    <tr>\n",
       "      <th>127</th>\n",
       "      <td>513</td>\n",
       "      <td>9</td>\n",
       "      <td>282</td>\n",
       "    </tr>\n",
       "  </tbody>\n",
       "</table>\n",
       "</div>"
      ],
      "text/plain": [
       "       r  teamID  playerID\n",
       "2    635       1      5443\n",
       "9    633       1        24\n",
       "53   626       4      1125\n",
       "30   587       3        41\n",
       "127  513       9       282"
      ]
     },
     "execution_count": 136,
     "metadata": {},
     "output_type": "execute_result"
    }
   ],
   "source": [
    "print('orange cap')\n",
    "orangeCap=batting.sort_values('r',axis=0,ascending=False)\n",
    "orangeCap[['r','teamID','playerID']].head(5)"
   ]
  },
  {
   "cell_type": "markdown",
   "metadata": {},
   "source": [
    "## overall season"
   ]
  },
  {
   "cell_type": "code",
   "execution_count": 137,
   "metadata": {},
   "outputs": [
    {
     "name": "stdout",
     "output_type": "stream",
     "text": [
      "==================================================\n",
      "total fifties in season >>>  89\n",
      "total centuries in season >>>  4\n",
      "total runs in season >>>  17716\n",
      "total balls in season >>>  13952\n",
      "total 4s in season >>>  1548\n",
      "total 6s in season >>>  687\n",
      "==================================================\n"
     ]
    }
   ],
   "source": [
    "print(''.center(50,'='))\n",
    "print('total fifties in season >>> ',sum(batting['50s']))\n",
    "print('total centuries in season >>> ',sum(batting['100s']))\n",
    "print('total runs in season >>> ',sum(batting['r']))\n",
    "print('total balls in season >>> ',sum(batting['b']))\n",
    "print('total 4s in season >>> ',sum(batting['4s']))\n",
    "print('total 6s in season >>> ',sum(batting['6s']))\n",
    "print(''.center(50,'='))"
   ]
  },
  {
   "cell_type": "markdown",
   "metadata": {},
   "source": [
    "## teamWise"
   ]
  },
  {
   "cell_type": "code",
   "execution_count": 138,
   "metadata": {},
   "outputs": [
    {
     "name": "stdout",
     "output_type": "stream",
     "text": [
      "======team-wise stats for batting=======\n",
      "        50s  100s     r   6s   4s\n",
      "teamID                           \n",
      "1        16     1  2607  115  231\n",
      "3        11     0  2382   66  233\n",
      "4        11     0  2061   93  155\n",
      "5        13     0  2423   98  220\n",
      "6         9     0  2016   76  181\n",
      "8         6     2  2087   90  187\n",
      "9        13     1  2181   79  190\n",
      "62       10     0  1959   70  151\n",
      "========================================\n"
     ]
    }
   ],
   "source": [
    "print('team-wise stats for batting'.center(40,'='))\n",
    "print(batting[['50s','100s','r','6s','4s','teamID']].groupby('teamID').sum())\n",
    "print(''.center(40,'='))"
   ]
  },
  {
   "cell_type": "code",
   "execution_count": 139,
   "metadata": {},
   "outputs": [
    {
     "name": "stdout",
     "output_type": "stream",
     "text": [
      "==============team-wise avg stats for batting===============\n",
      "                 b           r        6s         4s\n",
      "teamID                                             \n",
      "1       117.625000  162.937500  7.187500  14.437500\n",
      "3        92.650000  119.100000  3.300000  11.650000\n",
      "4        65.160000   82.440000  3.720000   6.200000\n",
      "5       100.947368  127.526316  5.157895  11.578947\n",
      "6        79.650000  100.800000  3.800000   9.050000\n",
      "8        68.375000   86.958333  3.750000   7.791667\n",
      "9        88.300000  109.050000  3.950000   9.500000\n",
      "62       69.583333   81.625000  2.916667   6.291667\n",
      "============================================================\n"
     ]
    }
   ],
   "source": [
    "# since some teams have played more games than other it is only fair to avgerage statistics\n",
    "print('team-wise avg stats for batting'.center(60,'='))\n",
    "print(batting[['b','r','6s','4s','teamID']].groupby('teamID').mean())\n",
    "print(''.center(60,'='))"
   ]
  },
  {
   "cell_type": "markdown",
   "metadata": {},
   "source": [
    "# bowling"
   ]
  },
  {
   "cell_type": "code",
   "execution_count": 140,
   "metadata": {},
   "outputs": [],
   "source": [
    "bowling=pd.read_csv('datasets/bowlingdata.csv')\n",
    "bowling=bowling.loc[bowling.o!='-']"
   ]
  },
  {
   "cell_type": "code",
   "execution_count": 141,
   "metadata": {},
   "outputs": [
    {
     "name": "stdout",
     "output_type": "stream",
     "text": [
      "(110, 26)\n"
     ]
    },
    {
     "data": {
      "text/html": [
       "<div>\n",
       "<style scoped>\n",
       "    .dataframe tbody tr th:only-of-type {\n",
       "        vertical-align: middle;\n",
       "    }\n",
       "\n",
       "    .dataframe tbody tr th {\n",
       "        vertical-align: top;\n",
       "    }\n",
       "\n",
       "    .dataframe thead th {\n",
       "        text-align: right;\n",
       "    }\n",
       "</style>\n",
       "<table border=\"1\" class=\"dataframe\">\n",
       "  <thead>\n",
       "    <tr style=\"text-align: right;\">\n",
       "      <th></th>\n",
       "      <th>bbiw</th>\n",
       "      <th>bbir</th>\n",
       "      <th>bbmw</th>\n",
       "      <th>bbmr</th>\n",
       "      <th>4w</th>\n",
       "      <th>5w</th>\n",
       "      <th>10w</th>\n",
       "      <th>inns</th>\n",
       "      <th>m</th>\n",
       "      <th>b</th>\n",
       "      <th>...</th>\n",
       "      <th>6s</th>\n",
       "      <th>maid</th>\n",
       "      <th>wmaid</th>\n",
       "      <th>ht</th>\n",
       "      <th>a</th>\n",
       "      <th>e</th>\n",
       "      <th>sr</th>\n",
       "      <th>o</th>\n",
       "      <th>teamID</th>\n",
       "      <th>playerID</th>\n",
       "    </tr>\n",
       "  </thead>\n",
       "  <tbody>\n",
       "    <tr>\n",
       "      <th>1</th>\n",
       "      <td>2</td>\n",
       "      <td>16</td>\n",
       "      <td>2</td>\n",
       "      <td>16</td>\n",
       "      <td>0</td>\n",
       "      <td>0</td>\n",
       "      <td>0</td>\n",
       "      <td>1</td>\n",
       "      <td>1</td>\n",
       "      <td>24</td>\n",
       "      <td>...</td>\n",
       "      <td>0</td>\n",
       "      <td>0</td>\n",
       "      <td>0</td>\n",
       "      <td>0</td>\n",
       "      <td>8.00</td>\n",
       "      <td>4.00</td>\n",
       "      <td>12.00</td>\n",
       "      <td>4.00</td>\n",
       "      <td>1</td>\n",
       "      <td>898</td>\n",
       "    </tr>\n",
       "    <tr>\n",
       "      <th>3</th>\n",
       "      <td>3</td>\n",
       "      <td>7</td>\n",
       "      <td>3</td>\n",
       "      <td>7</td>\n",
       "      <td>0</td>\n",
       "      <td>0</td>\n",
       "      <td>0</td>\n",
       "      <td>10</td>\n",
       "      <td>15</td>\n",
       "      <td>152</td>\n",
       "      <td>...</td>\n",
       "      <td>8</td>\n",
       "      <td>0</td>\n",
       "      <td>0</td>\n",
       "      <td>0</td>\n",
       "      <td>26.83</td>\n",
       "      <td>6.35</td>\n",
       "      <td>25.33</td>\n",
       "      <td>25.33</td>\n",
       "      <td>1</td>\n",
       "      <td>1735</td>\n",
       "    </tr>\n",
       "    <tr>\n",
       "      <th>4</th>\n",
       "      <td>3</td>\n",
       "      <td>13</td>\n",
       "      <td>3</td>\n",
       "      <td>13</td>\n",
       "      <td>0</td>\n",
       "      <td>0</td>\n",
       "      <td>0</td>\n",
       "      <td>16</td>\n",
       "      <td>16</td>\n",
       "      <td>294</td>\n",
       "      <td>...</td>\n",
       "      <td>14</td>\n",
       "      <td>1</td>\n",
       "      <td>1</td>\n",
       "      <td>0</td>\n",
       "      <td>26.61</td>\n",
       "      <td>7.06</td>\n",
       "      <td>22.61</td>\n",
       "      <td>49.00</td>\n",
       "      <td>1</td>\n",
       "      <td>9</td>\n",
       "    </tr>\n",
       "    <tr>\n",
       "      <th>5</th>\n",
       "      <td>4</td>\n",
       "      <td>13</td>\n",
       "      <td>4</td>\n",
       "      <td>13</td>\n",
       "      <td>2</td>\n",
       "      <td>0</td>\n",
       "      <td>0</td>\n",
       "      <td>15</td>\n",
       "      <td>15</td>\n",
       "      <td>324</td>\n",
       "      <td>...</td>\n",
       "      <td>13</td>\n",
       "      <td>1</td>\n",
       "      <td>1</td>\n",
       "      <td>0</td>\n",
       "      <td>32.21</td>\n",
       "      <td>8.35</td>\n",
       "      <td>23.14</td>\n",
       "      <td>54.00</td>\n",
       "      <td>1</td>\n",
       "      <td>140</td>\n",
       "    </tr>\n",
       "    <tr>\n",
       "      <th>7</th>\n",
       "      <td>1</td>\n",
       "      <td>18</td>\n",
       "      <td>1</td>\n",
       "      <td>18</td>\n",
       "      <td>0</td>\n",
       "      <td>0</td>\n",
       "      <td>0</td>\n",
       "      <td>1</td>\n",
       "      <td>1</td>\n",
       "      <td>13</td>\n",
       "      <td>...</td>\n",
       "      <td>0</td>\n",
       "      <td>0</td>\n",
       "      <td>0</td>\n",
       "      <td>0</td>\n",
       "      <td>18.00</td>\n",
       "      <td>8.30</td>\n",
       "      <td>13.00</td>\n",
       "      <td>2.16</td>\n",
       "      <td>1</td>\n",
       "      <td>4944</td>\n",
       "    </tr>\n",
       "  </tbody>\n",
       "</table>\n",
       "<p>5 rows × 26 columns</p>\n",
       "</div>"
      ],
      "text/plain": [
       "   bbiw  bbir  bbmw  bbmr  4w  5w  10w  inns   m    b  ...  6s  maid  wmaid  \\\n",
       "1     2    16     2    16   0   0    0     1   1   24  ...   0     0      0   \n",
       "3     3     7     3     7   0   0    0    10  15  152  ...   8     0      0   \n",
       "4     3    13     3    13   0   0    0    16  16  294  ...  14     1      1   \n",
       "5     4    13     4    13   2   0    0    15  15  324  ...  13     1      1   \n",
       "7     1    18     1    18   0   0    0     1   1   13  ...   0     0      0   \n",
       "\n",
       "   ht      a     e     sr      o  teamID  playerID  \n",
       "1   0   8.00  4.00  12.00   4.00       1       898  \n",
       "3   0  26.83  6.35  25.33  25.33       1      1735  \n",
       "4   0  26.61  7.06  22.61  49.00       1         9  \n",
       "5   0  32.21  8.35  23.14  54.00       1       140  \n",
       "7   0  18.00  8.30  13.00   2.16       1      4944  \n",
       "\n",
       "[5 rows x 26 columns]"
      ]
     },
     "execution_count": 141,
     "metadata": {},
     "output_type": "execute_result"
    }
   ],
   "source": [
    "print(bowling.shape)\n",
    "bowling.head()"
   ]
  },
  {
   "cell_type": "code",
   "execution_count": 142,
   "metadata": {},
   "outputs": [
    {
     "name": "stdout",
     "output_type": "stream",
     "text": [
      "purple cap\n"
     ]
    },
    {
     "data": {
      "text/html": [
       "<div>\n",
       "<style scoped>\n",
       "    .dataframe tbody tr th:only-of-type {\n",
       "        vertical-align: middle;\n",
       "    }\n",
       "\n",
       "    .dataframe tbody tr th {\n",
       "        vertical-align: top;\n",
       "    }\n",
       "\n",
       "    .dataframe thead th {\n",
       "        text-align: right;\n",
       "    }\n",
       "</style>\n",
       "<table border=\"1\" class=\"dataframe\">\n",
       "  <thead>\n",
       "    <tr style=\"text-align: right;\">\n",
       "      <th></th>\n",
       "      <th>w</th>\n",
       "      <th>teamID</th>\n",
       "      <th>playerID</th>\n",
       "    </tr>\n",
       "  </thead>\n",
       "  <tbody>\n",
       "    <tr>\n",
       "      <th>130</th>\n",
       "      <td>32</td>\n",
       "      <td>9</td>\n",
       "      <td>157</td>\n",
       "    </tr>\n",
       "    <tr>\n",
       "      <th>23</th>\n",
       "      <td>24</td>\n",
       "      <td>3</td>\n",
       "      <td>1561</td>\n",
       "    </tr>\n",
       "    <tr>\n",
       "      <th>8</th>\n",
       "      <td>21</td>\n",
       "      <td>1</td>\n",
       "      <td>1745</td>\n",
       "    </tr>\n",
       "    <tr>\n",
       "      <th>90</th>\n",
       "      <td>21</td>\n",
       "      <td>6</td>\n",
       "      <td>1124</td>\n",
       "    </tr>\n",
       "    <tr>\n",
       "      <th>50</th>\n",
       "      <td>19</td>\n",
       "      <td>4</td>\n",
       "      <td>94</td>\n",
       "    </tr>\n",
       "  </tbody>\n",
       "</table>\n",
       "</div>"
      ],
      "text/plain": [
       "      w  teamID  playerID\n",
       "130  32       9       157\n",
       "23   24       3      1561\n",
       "8    21       1      1745\n",
       "90   21       6      1124\n",
       "50   19       4        94"
      ]
     },
     "execution_count": 142,
     "metadata": {},
     "output_type": "execute_result"
    }
   ],
   "source": [
    "print('purple cap')\n",
    "purplecap=bowling.sort_values('w',axis=0,ascending=False)\n",
    "purplecap[['w','teamID','playerID']].head()"
   ]
  },
  {
   "cell_type": "code",
   "execution_count": 143,
   "metadata": {},
   "outputs": [
    {
     "name": "stdout",
     "output_type": "stream",
     "text": [
      "==================================================\n",
      "total wickets in season >>>  670\n",
      "total maiden overs in season >>>  16\n",
      "total maiden wicket overs in season >>>  13\n",
      "total extra runs in season >>>  597\n",
      "total no balls in season >>>  76\n",
      "total wide balls in season >>>  461\n",
      "total dot balls in season >>>  5229\n",
      "total 4 wickets hauls in season >>>  10\n",
      "total 5 wickets hauls in season >>>  3\n",
      "total hatricks in season >>>  1\n",
      "==================================================\n"
     ]
    }
   ],
   "source": [
    "# overall season\n",
    "print(''.center(50,'='))\n",
    "print('total wickets in season >>> ',sum(bowling['w']))\n",
    "print('total maiden overs in season >>> ',sum(bowling['maid']))\n",
    "print('total maiden wicket overs in season >>> ',sum(bowling['wmaid']))\n",
    "print('total extra runs in season >>> ',sum(bowling['r'])-sum(batting['r']))\n",
    "print('total no balls in season >>> ',sum(bowling['nb']))\n",
    "print('total wide balls in season >>> ',sum(bowling['wb']))\n",
    "print('total dot balls in season >>> ',sum(bowling['d']))\n",
    "print('total 4 wickets hauls in season >>> ',sum(bowling['4w']))\n",
    "print('total 5 wickets hauls in season >>> ',sum(bowling['5w']))\n",
    "print('total hatricks in season >>> ',sum(bowling['ht']))\n",
    "print(''.center(50,'='))"
   ]
  },
  {
   "cell_type": "code",
   "execution_count": 144,
   "metadata": {},
   "outputs": [
    {
     "name": "stdout",
     "output_type": "stream",
     "text": [
      "hatric player ID >>> 157\n",
      "he also has the purple cap\n"
     ]
    }
   ],
   "source": [
    "print('hatric player ID >>>',int(bowling.loc[bowling.ht==1,'playerID']))\n",
    "print('he also has the purple cap')"
   ]
  },
  {
   "cell_type": "code",
   "execution_count": 145,
   "metadata": {},
   "outputs": [
    {
     "name": "stdout",
     "output_type": "stream",
     "text": [
      "======team-wise stats for bowling=======\n",
      "          w  nb  wb    d  maid\n",
      "teamID                        \n",
      "1        96   8  85  700     3\n",
      "3        96   8  47  721     4\n",
      "4        75   4  48  620     3\n",
      "5       100  20  59  767     0\n",
      "6        77  12  48  640     1\n",
      "8        62   7  70  518     1\n",
      "9        92  13  55  641     2\n",
      "62       72   4  49  622     2\n",
      "==========wickets-no-wide-dot===========\n"
     ]
    }
   ],
   "source": [
    "# team wise\n",
    "# since some teams have played more games than other it is only fair to avgerage statistics\n",
    "print('team-wise stats for bowling'.center(40,'='))\n",
    "print(bowling[['w','nb','wb','d','maid','teamID']].groupby('teamID').sum())\n",
    "print('wickets-no-wide-dot'.center(40,'='))"
   ]
  },
  {
   "cell_type": "markdown",
   "metadata": {},
   "source": [
    "# fielding"
   ]
  },
  {
   "cell_type": "code",
   "execution_count": 146,
   "metadata": {},
   "outputs": [
    {
     "name": "stdout",
     "output_type": "stream",
     "text": [
      "(168, 7)\n"
     ]
    },
    {
     "data": {
      "text/html": [
       "<div>\n",
       "<style scoped>\n",
       "    .dataframe tbody tr th:only-of-type {\n",
       "        vertical-align: middle;\n",
       "    }\n",
       "\n",
       "    .dataframe tbody tr th {\n",
       "        vertical-align: top;\n",
       "    }\n",
       "\n",
       "    .dataframe thead th {\n",
       "        text-align: right;\n",
       "    }\n",
       "</style>\n",
       "<table border=\"1\" class=\"dataframe\">\n",
       "  <thead>\n",
       "    <tr style=\"text-align: right;\">\n",
       "      <th></th>\n",
       "      <th>c</th>\n",
       "      <th>ro</th>\n",
       "      <th>s</th>\n",
       "      <th>inns</th>\n",
       "      <th>m</th>\n",
       "      <th>teamID</th>\n",
       "      <th>playerID</th>\n",
       "    </tr>\n",
       "  </thead>\n",
       "  <tbody>\n",
       "    <tr>\n",
       "      <th>0</th>\n",
       "      <td>13</td>\n",
       "      <td>1</td>\n",
       "      <td>0</td>\n",
       "      <td>9</td>\n",
       "      <td>16</td>\n",
       "      <td>1</td>\n",
       "      <td>1</td>\n",
       "    </tr>\n",
       "    <tr>\n",
       "      <th>1</th>\n",
       "      <td>0</td>\n",
       "      <td>1</td>\n",
       "      <td>0</td>\n",
       "      <td>1</td>\n",
       "      <td>1</td>\n",
       "      <td>1</td>\n",
       "      <td>898</td>\n",
       "    </tr>\n",
       "    <tr>\n",
       "      <th>2</th>\n",
       "      <td>6</td>\n",
       "      <td>0</td>\n",
       "      <td>0</td>\n",
       "      <td>6</td>\n",
       "      <td>16</td>\n",
       "      <td>1</td>\n",
       "      <td>5443</td>\n",
       "    </tr>\n",
       "    <tr>\n",
       "      <th>3</th>\n",
       "      <td>7</td>\n",
       "      <td>0</td>\n",
       "      <td>0</td>\n",
       "      <td>5</td>\n",
       "      <td>15</td>\n",
       "      <td>1</td>\n",
       "      <td>1735</td>\n",
       "    </tr>\n",
       "    <tr>\n",
       "      <th>4</th>\n",
       "      <td>13</td>\n",
       "      <td>2</td>\n",
       "      <td>0</td>\n",
       "      <td>8</td>\n",
       "      <td>16</td>\n",
       "      <td>1</td>\n",
       "      <td>9</td>\n",
       "    </tr>\n",
       "  </tbody>\n",
       "</table>\n",
       "</div>"
      ],
      "text/plain": [
       "    c  ro  s  inns   m  teamID  playerID\n",
       "0  13   1  0     9  16       1         1\n",
       "1   0   1  0     1   1       1       898\n",
       "2   6   0  0     6  16       1      5443\n",
       "3   7   0  0     5  15       1      1735\n",
       "4  13   2  0     8  16       1         9"
      ]
     },
     "execution_count": 146,
     "metadata": {},
     "output_type": "execute_result"
    }
   ],
   "source": [
    "fielding=pd.read_csv('datasets/fieldingdata.csv')\n",
    "print(fielding.shape)\n",
    "fielding.head()"
   ]
  },
  {
   "cell_type": "code",
   "execution_count": 147,
   "metadata": {},
   "outputs": [
    {
     "name": "stdout",
     "output_type": "stream",
     "text": [
      "==================================================\n",
      "total catches in season >>>  475\n",
      "total run outs in season >>>  69\n",
      "total stumpings in season >>>  13\n",
      "==================================================\n"
     ]
    }
   ],
   "source": [
    "# overall season\n",
    "print(''.center(50,'='))\n",
    "print('total catches in season >>> ',sum(fielding['c']))\n",
    "print('total run outs in season >>> ',sum(fielding['ro']))\n",
    "print('total stumpings in season >>> ',sum(fielding['s']))\n",
    "print(''.center(50,'='))"
   ]
  },
  {
   "cell_type": "code",
   "execution_count": 148,
   "metadata": {},
   "outputs": [
    {
     "name": "stdout",
     "output_type": "stream",
     "text": [
      "======team-wise stats for fielding======\n",
      "         c  ro  s\n",
      "teamID           \n",
      "1       72  10  0\n",
      "3       64  10  3\n",
      "4       53   6  0\n",
      "5       63  14  2\n",
      "6       51   6  2\n",
      "8       46  10  4\n",
      "9       71   7  1\n",
      "62      55   6  1\n",
      "=======catches-runOuts-stumpings========\n"
     ]
    }
   ],
   "source": [
    "print('team-wise stats for fielding'.center(40,'='))\n",
    "print(fielding[['c','ro','s','teamID']].groupby('teamID').sum())\n",
    "print('catches-runOuts-stumpings'.center(40,'='))"
   ]
  },
  {
   "cell_type": "code",
   "execution_count": 149,
   "metadata": {},
   "outputs": [
    {
     "name": "stdout",
     "output_type": "stream",
     "text": [
      "top catchers\n"
     ]
    },
    {
     "data": {
      "text/html": [
       "<div>\n",
       "<style scoped>\n",
       "    .dataframe tbody tr th:only-of-type {\n",
       "        vertical-align: middle;\n",
       "    }\n",
       "\n",
       "    .dataframe tbody tr th {\n",
       "        vertical-align: top;\n",
       "    }\n",
       "\n",
       "    .dataframe thead th {\n",
       "        text-align: right;\n",
       "    }\n",
       "</style>\n",
       "<table border=\"1\" class=\"dataframe\">\n",
       "  <thead>\n",
       "    <tr style=\"text-align: right;\">\n",
       "      <th></th>\n",
       "      <th>c</th>\n",
       "      <th>teamID</th>\n",
       "      <th>playerID</th>\n",
       "    </tr>\n",
       "  </thead>\n",
       "  <tbody>\n",
       "    <tr>\n",
       "      <th>134</th>\n",
       "      <td>15</td>\n",
       "      <td>9</td>\n",
       "      <td>233</td>\n",
       "    </tr>\n",
       "    <tr>\n",
       "      <th>0</th>\n",
       "      <td>13</td>\n",
       "      <td>1</td>\n",
       "      <td>1</td>\n",
       "    </tr>\n",
       "    <tr>\n",
       "      <th>4</th>\n",
       "      <td>13</td>\n",
       "      <td>1</td>\n",
       "      <td>9</td>\n",
       "    </tr>\n",
       "    <tr>\n",
       "      <th>9</th>\n",
       "      <td>12</td>\n",
       "      <td>1</td>\n",
       "      <td>24</td>\n",
       "    </tr>\n",
       "    <tr>\n",
       "      <th>53</th>\n",
       "      <td>11</td>\n",
       "      <td>4</td>\n",
       "      <td>1125</td>\n",
       "    </tr>\n",
       "  </tbody>\n",
       "</table>\n",
       "</div>"
      ],
      "text/plain": [
       "      c  teamID  playerID\n",
       "134  15       9       233\n",
       "0    13       1         1\n",
       "4    13       1         9\n",
       "9    12       1        24\n",
       "53   11       4      1125"
      ]
     },
     "execution_count": 149,
     "metadata": {},
     "output_type": "execute_result"
    }
   ],
   "source": [
    "print('top catchers')\n",
    "catches=fielding.sort_values('c',axis=0,ascending=False)\n",
    "catches[['c','teamID','playerID']].head()"
   ]
  },
  {
   "cell_type": "code",
   "execution_count": 150,
   "metadata": {},
   "outputs": [
    {
     "name": "stdout",
     "output_type": "stream",
     "text": [
      "====team-wise avg stats for fielding====\n",
      "               c        ro\n",
      "teamID                    \n",
      "1       4.500000  0.625000\n",
      "3       3.200000  0.500000\n",
      "4       2.120000  0.240000\n",
      "5       3.315789  0.736842\n",
      "6       2.550000  0.300000\n",
      "8       1.916667  0.416667\n",
      "9       3.550000  0.350000\n",
      "62      2.291667  0.250000\n",
      "============catches-runOuts=============\n"
     ]
    }
   ],
   "source": [
    "print('team-wise avg stats for fielding'.center(40,'='))\n",
    "print(fielding[['c','ro','teamID']].groupby('teamID').mean())\n",
    "print('catches-runOuts'.center(40,'='))"
   ]
  }
 ],
 "metadata": {
  "interpreter": {
   "hash": "365d70965140afb04a698773bfdd31483bc82432b779112c2a78b5de7c16d125"
  },
  "kernelspec": {
   "display_name": "Python 3.8.5 64-bit ('base': conda)",
   "name": "python3"
  },
  "language_info": {
   "codemirror_mode": {
    "name": "ipython",
    "version": 3
   },
   "file_extension": ".py",
   "mimetype": "text/x-python",
   "name": "python",
   "nbconvert_exporter": "python",
   "pygments_lexer": "ipython3",
   "version": "3.8.5"
  },
  "orig_nbformat": 4
 },
 "nbformat": 4,
 "nbformat_minor": 2
}
