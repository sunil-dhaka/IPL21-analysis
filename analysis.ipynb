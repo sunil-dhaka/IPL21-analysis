{
 "cells": [
  {
   "cell_type": "code",
   "execution_count": 1,
   "metadata": {},
   "outputs": [],
   "source": [
    "import pandas as pd"
   ]
  },
  {
   "cell_type": "markdown",
   "metadata": {},
   "source": [
    "# batting"
   ]
  },
  {
   "cell_type": "code",
   "execution_count": 2,
   "metadata": {},
   "outputs": [],
   "source": [
    "batting=pd.read_csv('datasets/battingdata.csv')"
   ]
  },
  {
   "cell_type": "code",
   "execution_count": 3,
   "metadata": {},
   "outputs": [
    {
     "name": "stdout",
     "output_type": "stream",
     "text": [
      "(168, 14)\n"
     ]
    },
    {
     "data": {
      "text/html": [
       "<div>\n",
       "<style scoped>\n",
       "    .dataframe tbody tr th:only-of-type {\n",
       "        vertical-align: middle;\n",
       "    }\n",
       "\n",
       "    .dataframe tbody tr th {\n",
       "        vertical-align: top;\n",
       "    }\n",
       "\n",
       "    .dataframe thead th {\n",
       "        text-align: right;\n",
       "    }\n",
       "</style>\n",
       "<table border=\"1\" class=\"dataframe\">\n",
       "  <thead>\n",
       "    <tr style=\"text-align: right;\">\n",
       "      <th></th>\n",
       "      <th>50s</th>\n",
       "      <th>100s</th>\n",
       "      <th>inns</th>\n",
       "      <th>m</th>\n",
       "      <th>r</th>\n",
       "      <th>b</th>\n",
       "      <th>4s</th>\n",
       "      <th>6s</th>\n",
       "      <th>no</th>\n",
       "      <th>hs</th>\n",
       "      <th>sr</th>\n",
       "      <th>a</th>\n",
       "      <th>teamID</th>\n",
       "      <th>playerID</th>\n",
       "    </tr>\n",
       "  </thead>\n",
       "  <tbody>\n",
       "    <tr>\n",
       "      <th>0</th>\n",
       "      <td>0</td>\n",
       "      <td>0</td>\n",
       "      <td>11</td>\n",
       "      <td>16</td>\n",
       "      <td>114</td>\n",
       "      <td>107</td>\n",
       "      <td>12</td>\n",
       "      <td>3</td>\n",
       "      <td>4</td>\n",
       "      <td>18*</td>\n",
       "      <td>106.54</td>\n",
       "      <td>16.28</td>\n",
       "      <td>1</td>\n",
       "      <td>1</td>\n",
       "    </tr>\n",
       "    <tr>\n",
       "      <th>1</th>\n",
       "      <td>0</td>\n",
       "      <td>0</td>\n",
       "      <td>0</td>\n",
       "      <td>1</td>\n",
       "      <td>0</td>\n",
       "      <td>0</td>\n",
       "      <td>0</td>\n",
       "      <td>0</td>\n",
       "      <td>0</td>\n",
       "      <td>0*</td>\n",
       "      <td>-</td>\n",
       "      <td>-</td>\n",
       "      <td>1</td>\n",
       "      <td>898</td>\n",
       "    </tr>\n",
       "    <tr>\n",
       "      <th>2</th>\n",
       "      <td>4</td>\n",
       "      <td>1</td>\n",
       "      <td>16</td>\n",
       "      <td>16</td>\n",
       "      <td>635</td>\n",
       "      <td>466</td>\n",
       "      <td>64</td>\n",
       "      <td>23</td>\n",
       "      <td>2</td>\n",
       "      <td>101*</td>\n",
       "      <td>136.26</td>\n",
       "      <td>45.35</td>\n",
       "      <td>1</td>\n",
       "      <td>5443</td>\n",
       "    </tr>\n",
       "    <tr>\n",
       "      <th>3</th>\n",
       "      <td>1</td>\n",
       "      <td>0</td>\n",
       "      <td>15</td>\n",
       "      <td>15</td>\n",
       "      <td>357</td>\n",
       "      <td>260</td>\n",
       "      <td>31</td>\n",
       "      <td>19</td>\n",
       "      <td>1</td>\n",
       "      <td>58</td>\n",
       "      <td>137.30</td>\n",
       "      <td>25.50</td>\n",
       "      <td>1</td>\n",
       "      <td>1735</td>\n",
       "    </tr>\n",
       "    <tr>\n",
       "      <th>4</th>\n",
       "      <td>1</td>\n",
       "      <td>0</td>\n",
       "      <td>12</td>\n",
       "      <td>16</td>\n",
       "      <td>227</td>\n",
       "      <td>156</td>\n",
       "      <td>19</td>\n",
       "      <td>9</td>\n",
       "      <td>9</td>\n",
       "      <td>62*</td>\n",
       "      <td>145.51</td>\n",
       "      <td>75.66</td>\n",
       "      <td>1</td>\n",
       "      <td>9</td>\n",
       "    </tr>\n",
       "  </tbody>\n",
       "</table>\n",
       "</div>"
      ],
      "text/plain": [
       "   50s  100s  inns   m    r    b  4s  6s  no    hs      sr      a  teamID  \\\n",
       "0    0     0    11  16  114  107  12   3   4   18*  106.54  16.28       1   \n",
       "1    0     0     0   1    0    0   0   0   0    0*       -      -       1   \n",
       "2    4     1    16  16  635  466  64  23   2  101*  136.26  45.35       1   \n",
       "3    1     0    15  15  357  260  31  19   1    58  137.30  25.50       1   \n",
       "4    1     0    12  16  227  156  19   9   9   62*  145.51  75.66       1   \n",
       "\n",
       "   playerID  \n",
       "0         1  \n",
       "1       898  \n",
       "2      5443  \n",
       "3      1735  \n",
       "4         9  "
      ]
     },
     "execution_count": 3,
     "metadata": {},
     "output_type": "execute_result"
    }
   ],
   "source": [
    "print(batting.shape)\n",
    "batting.head()"
   ]
  },
  {
   "cell_type": "code",
   "execution_count": 8,
   "metadata": {},
   "outputs": [
    {
     "data": {
      "text/html": [
       "<div>\n",
       "<style scoped>\n",
       "    .dataframe tbody tr th:only-of-type {\n",
       "        vertical-align: middle;\n",
       "    }\n",
       "\n",
       "    .dataframe tbody tr th {\n",
       "        vertical-align: top;\n",
       "    }\n",
       "\n",
       "    .dataframe thead th {\n",
       "        text-align: right;\n",
       "    }\n",
       "</style>\n",
       "<table border=\"1\" class=\"dataframe\">\n",
       "  <thead>\n",
       "    <tr style=\"text-align: right;\">\n",
       "      <th></th>\n",
       "      <th>50s</th>\n",
       "      <th>100s</th>\n",
       "      <th>inns</th>\n",
       "      <th>m</th>\n",
       "      <th>r</th>\n",
       "      <th>b</th>\n",
       "      <th>4s</th>\n",
       "      <th>6s</th>\n",
       "      <th>no</th>\n",
       "      <th>hs</th>\n",
       "      <th>sr</th>\n",
       "      <th>a</th>\n",
       "      <th>teamID</th>\n",
       "      <th>playerID</th>\n",
       "    </tr>\n",
       "  </thead>\n",
       "  <tbody>\n",
       "    <tr>\n",
       "      <th>2</th>\n",
       "      <td>4</td>\n",
       "      <td>1</td>\n",
       "      <td>16</td>\n",
       "      <td>16</td>\n",
       "      <td>635</td>\n",
       "      <td>466</td>\n",
       "      <td>64</td>\n",
       "      <td>23</td>\n",
       "      <td>2</td>\n",
       "      <td>101*</td>\n",
       "      <td>136.26</td>\n",
       "      <td>45.35</td>\n",
       "      <td>1</td>\n",
       "      <td>5443</td>\n",
       "    </tr>\n",
       "    <tr>\n",
       "      <th>9</th>\n",
       "      <td>6</td>\n",
       "      <td>0</td>\n",
       "      <td>16</td>\n",
       "      <td>16</td>\n",
       "      <td>633</td>\n",
       "      <td>458</td>\n",
       "      <td>60</td>\n",
       "      <td>23</td>\n",
       "      <td>2</td>\n",
       "      <td>95*</td>\n",
       "      <td>138.20</td>\n",
       "      <td>45.21</td>\n",
       "      <td>1</td>\n",
       "      <td>24</td>\n",
       "    </tr>\n",
       "    <tr>\n",
       "      <th>53</th>\n",
       "      <td>6</td>\n",
       "      <td>0</td>\n",
       "      <td>13</td>\n",
       "      <td>13</td>\n",
       "      <td>626</td>\n",
       "      <td>451</td>\n",
       "      <td>48</td>\n",
       "      <td>30</td>\n",
       "      <td>3</td>\n",
       "      <td>98*</td>\n",
       "      <td>138.80</td>\n",
       "      <td>62.60</td>\n",
       "      <td>4</td>\n",
       "      <td>1125</td>\n",
       "    </tr>\n",
       "    <tr>\n",
       "      <th>30</th>\n",
       "      <td>3</td>\n",
       "      <td>0</td>\n",
       "      <td>16</td>\n",
       "      <td>16</td>\n",
       "      <td>587</td>\n",
       "      <td>471</td>\n",
       "      <td>63</td>\n",
       "      <td>16</td>\n",
       "      <td>1</td>\n",
       "      <td>92</td>\n",
       "      <td>124.62</td>\n",
       "      <td>39.13</td>\n",
       "      <td>3</td>\n",
       "      <td>41</td>\n",
       "    </tr>\n",
       "    <tr>\n",
       "      <th>127</th>\n",
       "      <td>6</td>\n",
       "      <td>0</td>\n",
       "      <td>14</td>\n",
       "      <td>15</td>\n",
       "      <td>513</td>\n",
       "      <td>356</td>\n",
       "      <td>48</td>\n",
       "      <td>21</td>\n",
       "      <td>2</td>\n",
       "      <td>78</td>\n",
       "      <td>144.10</td>\n",
       "      <td>42.75</td>\n",
       "      <td>9</td>\n",
       "      <td>282</td>\n",
       "    </tr>\n",
       "  </tbody>\n",
       "</table>\n",
       "</div>"
      ],
      "text/plain": [
       "     50s  100s  inns   m    r    b  4s  6s  no    hs      sr      a  teamID  \\\n",
       "2      4     1    16  16  635  466  64  23   2  101*  136.26  45.35       1   \n",
       "9      6     0    16  16  633  458  60  23   2   95*  138.20  45.21       1   \n",
       "53     6     0    13  13  626  451  48  30   3   98*  138.80  62.60       4   \n",
       "30     3     0    16  16  587  471  63  16   1    92  124.62  39.13       3   \n",
       "127    6     0    14  15  513  356  48  21   2    78  144.10  42.75       9   \n",
       "\n",
       "     playerID  \n",
       "2        5443  \n",
       "9          24  \n",
       "53       1125  \n",
       "30         41  \n",
       "127       282  "
      ]
     },
     "execution_count": 8,
     "metadata": {},
     "output_type": "execute_result"
    }
   ],
   "source": [
    "orangeCap=batting.sort_values('r',axis=0,ascending=False)\n",
    "orangeCap.head(5)"
   ]
  },
  {
   "cell_type": "markdown",
   "metadata": {},
   "source": [
    "## overall season"
   ]
  },
  {
   "cell_type": "code",
   "execution_count": 40,
   "metadata": {},
   "outputs": [
    {
     "name": "stdout",
     "output_type": "stream",
     "text": [
      "==================================================\n",
      "total fifties in season 2021 >>>  89\n",
      "total centuries in season 2021 >>>  4\n",
      "total runs in season 2021 >>>  17716\n",
      "total 4s in season 2021 >>>  1548\n",
      "total 6s in season 2021 >>>  687\n",
      "==================================================\n"
     ]
    }
   ],
   "source": [
    "print(''.center(50,'='))\n",
    "print('total fifties in season 2021 >>> ',sum(batting['50s']))\n",
    "print('total centuries in season 2021 >>> ',sum(batting['100s']))\n",
    "print('total runs in season 2021 >>> ',sum(batting['r']))\n",
    "print('total 4s in season 2021 >>> ',sum(batting['4s']))\n",
    "print('total 6s in season 2021 >>> ',sum(batting['6s']))\n",
    "print(''.center(50,'='))"
   ]
  },
  {
   "cell_type": "markdown",
   "metadata": {},
   "source": [
    "## teamWise"
   ]
  },
  {
   "cell_type": "code",
   "execution_count": 31,
   "metadata": {},
   "outputs": [
    {
     "name": "stdout",
     "output_type": "stream",
     "text": [
      "====50s and 100s by teams=====\n",
      "        50s  100s\n",
      "teamID           \n",
      "1        16     1\n",
      "3        11     0\n",
      "4        11     0\n",
      "5        13     0\n",
      "6         9     0\n",
      "8         6     2\n",
      "9        13     1\n",
      "62       10     0\n",
      "==============================\n"
     ]
    }
   ],
   "source": [
    "# fifties teamwise\n",
    "print('50s and 100s by teams'.center(30,'='))\n",
    "print(batting[['50s','100s','teamID']].groupby('teamID').sum())\n",
    "print(''.center(30,'='))"
   ]
  },
  {
   "cell_type": "code",
   "execution_count": 36,
   "metadata": {},
   "outputs": [
    {
     "name": "stdout",
     "output_type": "stream",
     "text": [
      "======total 6s by teams=======\n",
      "         6s\n",
      "teamID     \n",
      "1       115\n",
      "3        66\n",
      "4        93\n",
      "5        98\n",
      "6        76\n",
      "8        90\n",
      "9        79\n",
      "62       70\n",
      "==============================\n"
     ]
    }
   ],
   "source": [
    "print('total 6s by teams'.center(30,'='))\n",
    "print(batting[['6s','teamID']].groupby('teamID').sum())\n",
    "print(''.center(30,'='))"
   ]
  },
  {
   "cell_type": "code",
   "execution_count": 37,
   "metadata": {},
   "outputs": [
    {
     "name": "stdout",
     "output_type": "stream",
     "text": [
      "======total 4s by teams=======\n",
      "         4s\n",
      "teamID     \n",
      "1       231\n",
      "3       233\n",
      "4       155\n",
      "5       220\n",
      "6       181\n",
      "8       187\n",
      "9       190\n",
      "62      151\n",
      "==============================\n"
     ]
    }
   ],
   "source": [
    "print('total 4s by teams'.center(30,'='))\n",
    "print(batting[['4s','teamID']].groupby('teamID').sum())\n",
    "print(''.center(30,'='))"
   ]
  },
  {
   "cell_type": "code",
   "execution_count": 38,
   "metadata": {},
   "outputs": [
    {
     "name": "stdout",
     "output_type": "stream",
     "text": [
      "====average runs by teams=====\n",
      "                 r\n",
      "teamID            \n",
      "1       162.937500\n",
      "3       119.100000\n",
      "4        82.440000\n",
      "5       127.526316\n",
      "6       100.800000\n",
      "8        86.958333\n",
      "9       109.050000\n",
      "62       81.625000\n",
      "==============================\n"
     ]
    }
   ],
   "source": [
    "print('average runs by teams'.center(30,'='))\n",
    "print(batting[['r','teamID']].groupby('teamID').mean())\n",
    "print(''.center(30,'='))"
   ]
  },
  {
   "cell_type": "code",
   "execution_count": 34,
   "metadata": {},
   "outputs": [
    {
     "name": "stdout",
     "output_type": "stream",
     "text": [
      "=====total runs by teams======\n",
      "           r\n",
      "teamID      \n",
      "1       2607\n",
      "3       2382\n",
      "4       2061\n",
      "5       2423\n",
      "6       2016\n",
      "8       2087\n",
      "9       2181\n",
      "62      1959\n",
      "==============================\n"
     ]
    }
   ],
   "source": [
    "print('total runs by teams'.center(30,'='))\n",
    "print(batting[['r','teamID']].groupby('teamID').sum())\n",
    "print(''.center(30,'='))"
   ]
  }
 ],
 "metadata": {
  "interpreter": {
   "hash": "365d70965140afb04a698773bfdd31483bc82432b779112c2a78b5de7c16d125"
  },
  "kernelspec": {
   "display_name": "Python 3.8.5 64-bit ('base': conda)",
   "name": "python3"
  },
  "language_info": {
   "codemirror_mode": {
    "name": "ipython",
    "version": 3
   },
   "file_extension": ".py",
   "mimetype": "text/x-python",
   "name": "python",
   "nbconvert_exporter": "python",
   "pygments_lexer": "ipython3",
   "version": "3.8.5"
  },
  "orig_nbformat": 4
 },
 "nbformat": 4,
 "nbformat_minor": 2
}
